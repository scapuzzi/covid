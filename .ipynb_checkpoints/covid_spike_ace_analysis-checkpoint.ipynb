{
 "cells": [
  {
   "cell_type": "markdown",
   "metadata": {},
   "source": [
    "# Analysis of Spike-ACE2 protein-protein interaction (AlphaLISA)  qHTS data"
   ]
  },
  {
   "cell_type": "markdown",
   "metadata": {},
   "source": [
    "#### This notebooks details the analysis of the Spike-ACE2 protein-protein interaction screening data from NCATS\n",
    "\n",
    "\n"
   ]
  },
  {
   "cell_type": "markdown",
   "metadata": {},
   "source": [
    "Outcomes: True actives are those compounds that show activity in the primary screen, but no activity in the counterscreeen"
   ]
  },
  {
   "cell_type": "markdown",
   "metadata": {},
   "source": [
    "Primary Assay Details: https://opendata.ncats.nih.gov/covid19/assay?aid=1\n",
    "\n",
    "Counter Screen Details: https://opendata.ncats.nih.gov/covid19/assay?aid=2"
   ]
  },
  {
   "cell_type": "markdown",
   "metadata": {},
   "source": [
    "#### Import libraries"
   ]
  },
  {
   "cell_type": "code",
   "execution_count": 1,
   "metadata": {},
   "outputs": [
    {
     "name": "stderr",
     "output_type": "stream",
     "text": [
      "RDKit WARNING: [20:02:32] Enabling RDKit 2019.09.3 jupyter extensions\n"
     ]
    }
   ],
   "source": [
    "import pandas as pd\n",
    "import seaborn as sns\n",
    "import matplotlib.pyplot as plt\n",
    "\n",
    "\n",
    "from rdkit import Chem\n",
    "from rdkit.Chem import AllChem\n",
    "from rdkit.Chem import Draw\n",
    "from rdkit.Chem import PandasTools\n",
    "from rdkit.Chem.Draw import IPythonConsole"
   ]
  },
  {
   "cell_type": "markdown",
   "metadata": {},
   "source": [
    "### In the first section of the notebook we will curate the primary HTS data"
   ]
  },
  {
   "cell_type": "markdown",
   "metadata": {},
   "source": [
    "#### Read the file containing the primary screening data "
   ]
  },
  {
   "cell_type": "code",
   "execution_count": 2,
   "metadata": {},
   "outputs": [],
   "source": [
    "file = 'Spike-ACE2_protein-protein_interaction_(AlphaLISA).tsv'"
   ]
  },
  {
   "cell_type": "code",
   "execution_count": 3,
   "metadata": {},
   "outputs": [],
   "source": [
    "primary = pd.read_csv(file, sep='\\t')  "
   ]
  },
  {
   "cell_type": "code",
   "execution_count": 4,
   "metadata": {},
   "outputs": [
    {
     "name": "stdout",
     "output_type": "stream",
     "text": [
      "Uncurated primary qHTS data:  (3410, 53)\n"
     ]
    },
    {
     "data": {
      "text/html": [
       "<div>\n",
       "<style scoped>\n",
       "    .dataframe tbody tr th:only-of-type {\n",
       "        vertical-align: middle;\n",
       "    }\n",
       "\n",
       "    .dataframe tbody tr th {\n",
       "        vertical-align: top;\n",
       "    }\n",
       "\n",
       "    .dataframe thead th {\n",
       "        text-align: right;\n",
       "    }\n",
       "</style>\n",
       "<table border=\"1\" class=\"dataframe\">\n",
       "  <thead>\n",
       "    <tr style=\"text-align: right;\">\n",
       "      <th></th>\n",
       "      <th>SAMPLE_ID</th>\n",
       "      <th>SAMPLE_NAME</th>\n",
       "      <th>PUBCHEM_SID</th>\n",
       "      <th>PRIMARY_MOA</th>\n",
       "      <th>ASSAY_NAME</th>\n",
       "      <th>LIBRARY</th>\n",
       "      <th>CAS</th>\n",
       "      <th>ALIAS</th>\n",
       "      <th>AC50</th>\n",
       "      <th>LOG_AC50</th>\n",
       "      <th>...</th>\n",
       "      <th>CONC5</th>\n",
       "      <th>CONC6</th>\n",
       "      <th>CONC7</th>\n",
       "      <th>CONC8</th>\n",
       "      <th>CONC9</th>\n",
       "      <th>CONC10</th>\n",
       "      <th>CONC11</th>\n",
       "      <th>CONC12</th>\n",
       "      <th>CONC13</th>\n",
       "      <th>CONC14</th>\n",
       "    </tr>\n",
       "  </thead>\n",
       "  <tbody>\n",
       "    <tr>\n",
       "      <th>0</th>\n",
       "      <td>NCGC00016241-10</td>\n",
       "      <td>Furosemide</td>\n",
       "      <td>170464879.0</td>\n",
       "      <td>Loop Diuretics</td>\n",
       "      <td>DPI_SARS-CoV-2_General</td>\n",
       "      <td>2020_NCATS-NPC_01</td>\n",
       "      <td>54-31-9</td>\n",
       "      <td>; Diumide-K; Frusemid;FUROSEMIDE; Errolon; La...</td>\n",
       "      <td>42.284121</td>\n",
       "      <td>-4.373823</td>\n",
       "      <td>...</td>\n",
       "      <td>0.000011</td>\n",
       "      <td>0.000057</td>\n",
       "      <td>NaN</td>\n",
       "      <td>NaN</td>\n",
       "      <td>NaN</td>\n",
       "      <td>NaN</td>\n",
       "      <td>NaN</td>\n",
       "      <td>NaN</td>\n",
       "      <td>NaN</td>\n",
       "      <td>NaN</td>\n",
       "    </tr>\n",
       "    <tr>\n",
       "      <th>1</th>\n",
       "      <td>NCGC00253670-01</td>\n",
       "      <td>Meropenem</td>\n",
       "      <td>170466350.0</td>\n",
       "      <td>Carbapenem Antibiotic</td>\n",
       "      <td>DPI_SARS-CoV-2_General</td>\n",
       "      <td>2020_NCATS-NPC_01</td>\n",
       "      <td>96036-03-2</td>\n",
       "      <td>NaN</td>\n",
       "      <td>NaN</td>\n",
       "      <td>NaN</td>\n",
       "      <td>...</td>\n",
       "      <td>0.000011</td>\n",
       "      <td>0.000057</td>\n",
       "      <td>NaN</td>\n",
       "      <td>NaN</td>\n",
       "      <td>NaN</td>\n",
       "      <td>NaN</td>\n",
       "      <td>NaN</td>\n",
       "      <td>NaN</td>\n",
       "      <td>NaN</td>\n",
       "      <td>NaN</td>\n",
       "    </tr>\n",
       "    <tr>\n",
       "      <th>2</th>\n",
       "      <td>NCGC00016055-16</td>\n",
       "      <td>Trimethoprim</td>\n",
       "      <td>170464633.0</td>\n",
       "      <td>Bacterial dihydrofolate reductase Inhibitor</td>\n",
       "      <td>DPI_SARS-CoV-2_General</td>\n",
       "      <td>2020_NCATS-NPC_01</td>\n",
       "      <td>738-70-5</td>\n",
       "      <td>NaN</td>\n",
       "      <td>NaN</td>\n",
       "      <td>NaN</td>\n",
       "      <td>...</td>\n",
       "      <td>0.000011</td>\n",
       "      <td>0.000057</td>\n",
       "      <td>NaN</td>\n",
       "      <td>NaN</td>\n",
       "      <td>NaN</td>\n",
       "      <td>NaN</td>\n",
       "      <td>NaN</td>\n",
       "      <td>NaN</td>\n",
       "      <td>NaN</td>\n",
       "      <td>NaN</td>\n",
       "    </tr>\n",
       "    <tr>\n",
       "      <th>3</th>\n",
       "      <td>NCGC00253611-01</td>\n",
       "      <td>Isoaminile</td>\n",
       "      <td>170465846.0</td>\n",
       "      <td>NaN</td>\n",
       "      <td>DPI_SARS-CoV-2_General</td>\n",
       "      <td>2020_NCATS-NPC_01</td>\n",
       "      <td>77-51-0</td>\n",
       "      <td>NaN</td>\n",
       "      <td>NaN</td>\n",
       "      <td>NaN</td>\n",
       "      <td>...</td>\n",
       "      <td>0.000011</td>\n",
       "      <td>0.000057</td>\n",
       "      <td>NaN</td>\n",
       "      <td>NaN</td>\n",
       "      <td>NaN</td>\n",
       "      <td>NaN</td>\n",
       "      <td>NaN</td>\n",
       "      <td>NaN</td>\n",
       "      <td>NaN</td>\n",
       "      <td>NaN</td>\n",
       "    </tr>\n",
       "    <tr>\n",
       "      <th>4</th>\n",
       "      <td>NCGC00018204-13</td>\n",
       "      <td>Vinpocetine</td>\n",
       "      <td>170465859.0</td>\n",
       "      <td>Na channel blocker, also PDE1, IKK inhibitor</td>\n",
       "      <td>DPI_SARS-CoV-2_General</td>\n",
       "      <td>2020_NCATS-NPC_01</td>\n",
       "      <td>42971-09-5</td>\n",
       "      <td>;Vinpocetine; Cavinton</td>\n",
       "      <td>18.887623</td>\n",
       "      <td>-4.723823</td>\n",
       "      <td>...</td>\n",
       "      <td>0.000011</td>\n",
       "      <td>0.000057</td>\n",
       "      <td>NaN</td>\n",
       "      <td>NaN</td>\n",
       "      <td>NaN</td>\n",
       "      <td>NaN</td>\n",
       "      <td>NaN</td>\n",
       "      <td>NaN</td>\n",
       "      <td>NaN</td>\n",
       "      <td>NaN</td>\n",
       "    </tr>\n",
       "  </tbody>\n",
       "</table>\n",
       "<p>5 rows × 53 columns</p>\n",
       "</div>"
      ],
      "text/plain": [
       "         SAMPLE_ID   SAMPLE_NAME  PUBCHEM_SID  \\\n",
       "0  NCGC00016241-10    Furosemide  170464879.0   \n",
       "1  NCGC00253670-01     Meropenem  170466350.0   \n",
       "2  NCGC00016055-16  Trimethoprim  170464633.0   \n",
       "3  NCGC00253611-01    Isoaminile  170465846.0   \n",
       "4  NCGC00018204-13   Vinpocetine  170465859.0   \n",
       "\n",
       "                                    PRIMARY_MOA              ASSAY_NAME  \\\n",
       "0                                Loop Diuretics  DPI_SARS-CoV-2_General   \n",
       "1                         Carbapenem Antibiotic  DPI_SARS-CoV-2_General   \n",
       "2   Bacterial dihydrofolate reductase Inhibitor  DPI_SARS-CoV-2_General   \n",
       "3                                           NaN  DPI_SARS-CoV-2_General   \n",
       "4  Na channel blocker, also PDE1, IKK inhibitor  DPI_SARS-CoV-2_General   \n",
       "\n",
       "             LIBRARY         CAS  \\\n",
       "0  2020_NCATS-NPC_01     54-31-9   \n",
       "1  2020_NCATS-NPC_01  96036-03-2   \n",
       "2  2020_NCATS-NPC_01    738-70-5   \n",
       "3  2020_NCATS-NPC_01     77-51-0   \n",
       "4  2020_NCATS-NPC_01  42971-09-5   \n",
       "\n",
       "                                               ALIAS       AC50  LOG_AC50  \\\n",
       "0   ; Diumide-K; Frusemid;FUROSEMIDE; Errolon; La...  42.284121 -4.373823   \n",
       "1                                                NaN        NaN       NaN   \n",
       "2                                                NaN        NaN       NaN   \n",
       "3                                                NaN        NaN       NaN   \n",
       "4                             ;Vinpocetine; Cavinton  18.887623 -4.723823   \n",
       "\n",
       "   ...     CONC5     CONC6  CONC7 CONC8  CONC9  CONC10  CONC11  CONC12  \\\n",
       "0  ...  0.000011  0.000057    NaN   NaN    NaN     NaN     NaN     NaN   \n",
       "1  ...  0.000011  0.000057    NaN   NaN    NaN     NaN     NaN     NaN   \n",
       "2  ...  0.000011  0.000057    NaN   NaN    NaN     NaN     NaN     NaN   \n",
       "3  ...  0.000011  0.000057    NaN   NaN    NaN     NaN     NaN     NaN   \n",
       "4  ...  0.000011  0.000057    NaN   NaN    NaN     NaN     NaN     NaN   \n",
       "\n",
       "   CONC13 CONC14  \n",
       "0     NaN    NaN  \n",
       "1     NaN    NaN  \n",
       "2     NaN    NaN  \n",
       "3     NaN    NaN  \n",
       "4     NaN    NaN  \n",
       "\n",
       "[5 rows x 53 columns]"
      ]
     },
     "execution_count": 4,
     "metadata": {},
     "output_type": "execute_result"
    }
   ],
   "source": [
    "print('Uncurated primary qHTS data: ', primary.shape)\n",
    "primary.head()"
   ]
  },
  {
   "cell_type": "markdown",
   "metadata": {},
   "source": [
    "#### Clean up the dataframe"
   ]
  },
  {
   "cell_type": "code",
   "execution_count": 5,
   "metadata": {},
   "outputs": [
    {
     "data": {
      "text/plain": [
       "Index(['SAMPLE_ID', 'SAMPLE_NAME', 'PUBCHEM_SID', 'PRIMARY_MOA', 'ASSAY_NAME',\n",
       "       'LIBRARY', 'CAS', 'ALIAS', 'AC50', 'LOG_AC50', 'AUC', 'CURVE_CLASS2',\n",
       "       'DATA_POINTS', 'DRUG_NAME', 'EFFICACY', 'MAX_RESPONSE', 'P_HILL', 'R2',\n",
       "       'GENE_ID', 'GENE_SYMBOL', 'SMILES', 'SUPPLIER', 'SUPPLIER_ID', 'DATA0',\n",
       "       'DATA1', 'DATA2', 'DATA3', 'DATA4', 'DATA5', 'DATA6', 'DATA7', 'DATA8',\n",
       "       'DATA9', 'DATA10', 'DATA11', 'DATA12', 'DATA13', 'DATA14', 'CONC0',\n",
       "       'CONC1', 'CONC2', 'CONC3', 'CONC4', 'CONC5', 'CONC6', 'CONC7', 'CONC8',\n",
       "       'CONC9', 'CONC10', 'CONC11', 'CONC12', 'CONC13', 'CONC14'],\n",
       "      dtype='object')"
      ]
     },
     "execution_count": 5,
     "metadata": {},
     "output_type": "execute_result"
    }
   ],
   "source": [
    "#Inspect the columns and decide which we need which we can drop\n",
    "primary.columns"
   ]
  },
  {
   "cell_type": "markdown",
   "metadata": {},
   "source": [
    "#### we will want to keep compound identifiers, smiles, curve classes, and log_AC50 \n",
    "note: most of our activity curation will come from curve class curation and not any activity endpoints directly."
   ]
  },
  {
   "cell_type": "code",
   "execution_count": 6,
   "metadata": {},
   "outputs": [
    {
     "name": "stdout",
     "output_type": "stream",
     "text": [
      "Cleaned Up Dataset:\n"
     ]
    },
    {
     "data": {
      "text/html": [
       "<div>\n",
       "<style scoped>\n",
       "    .dataframe tbody tr th:only-of-type {\n",
       "        vertical-align: middle;\n",
       "    }\n",
       "\n",
       "    .dataframe tbody tr th {\n",
       "        vertical-align: top;\n",
       "    }\n",
       "\n",
       "    .dataframe thead th {\n",
       "        text-align: right;\n",
       "    }\n",
       "</style>\n",
       "<table border=\"1\" class=\"dataframe\">\n",
       "  <thead>\n",
       "    <tr style=\"text-align: right;\">\n",
       "      <th></th>\n",
       "      <th>SAMPLE_ID</th>\n",
       "      <th>SAMPLE_NAME</th>\n",
       "      <th>LOG_AC50</th>\n",
       "      <th>CURVE_CLASS2</th>\n",
       "      <th>SMILES</th>\n",
       "    </tr>\n",
       "  </thead>\n",
       "  <tbody>\n",
       "    <tr>\n",
       "      <th>0</th>\n",
       "      <td>NCGC00016241-10</td>\n",
       "      <td>Furosemide</td>\n",
       "      <td>-4.373823</td>\n",
       "      <td>4.0</td>\n",
       "      <td>NS(=O)(=O)c2cc(c(NCc1ccco1)cc2Cl)C(=O)O</td>\n",
       "    </tr>\n",
       "  </tbody>\n",
       "</table>\n",
       "</div>"
      ],
      "text/plain": [
       "         SAMPLE_ID SAMPLE_NAME  LOG_AC50  CURVE_CLASS2  \\\n",
       "0  NCGC00016241-10  Furosemide -4.373823           4.0   \n",
       "\n",
       "                                    SMILES  \n",
       "0  NS(=O)(=O)c2cc(c(NCc1ccco1)cc2Cl)C(=O)O  "
      ]
     },
     "execution_count": 6,
     "metadata": {},
     "output_type": "execute_result"
    }
   ],
   "source": [
    "#make a list of columns to drop and then drop. \n",
    "\n",
    "drop_columns = ['PUBCHEM_SID', 'PRIMARY_MOA', 'ASSAY_NAME','LIBRARY', 'CAS', 'ALIAS', 'AC50','AUC','DATA_POINTS', 'DRUG_NAME', 'EFFICACY', 'MAX_RESPONSE', 'P_HILL', 'R2', 'GENE_ID', 'GENE_SYMBOL','SUPPLIER', 'SUPPLIER_ID', 'DATA0', 'DATA1', 'DATA2', 'DATA3', 'DATA4', 'DATA5', 'DATA6', 'DATA7', 'DATA8', 'DATA9', 'DATA10', 'DATA11', 'DATA12', 'DATA13', 'DATA14', 'CONC0','CONC1', 'CONC2', 'CONC3', 'CONC4', 'CONC5', 'CONC6', 'CONC7', 'CONC8','CONC9', 'CONC10', 'CONC11', 'CONC12', 'CONC13', 'CONC14']\n",
    "\n",
    "df = primary.drop(drop_columns, axis=1)\n",
    "\n",
    "print('Cleaned Up Dataset:')\n",
    "df.head(1)"
   ]
  },
  {
   "cell_type": "markdown",
   "metadata": {},
   "source": [
    "#### More clean up: add a pAC50 measure, visualize compounds, and reorder the columns"
   ]
  },
  {
   "cell_type": "code",
   "execution_count": 7,
   "metadata": {},
   "outputs": [
    {
     "data": {
      "text/html": [
       "<div>\n",
       "<style scoped>\n",
       "    .dataframe tbody tr th:only-of-type {\n",
       "        vertical-align: middle;\n",
       "    }\n",
       "\n",
       "    .dataframe tbody tr th {\n",
       "        vertical-align: top;\n",
       "    }\n",
       "\n",
       "    .dataframe thead th {\n",
       "        text-align: right;\n",
       "    }\n",
       "</style>\n",
       "<table border=\"1\" class=\"dataframe\">\n",
       "  <thead>\n",
       "    <tr style=\"text-align: right;\">\n",
       "      <th></th>\n",
       "      <th>Mol</th>\n",
       "      <th>SAMPLE_ID</th>\n",
       "      <th>SAMPLE_NAME</th>\n",
       "      <th>pAC50</th>\n",
       "      <th>CURVE_CLASS2</th>\n",
       "      <th>SMILES</th>\n",
       "    </tr>\n",
       "  </thead>\n",
       "  <tbody>\n",
       "    <tr>\n",
       "      <th>0</th>\n",
       "      <td><img data-content=\"rdkit/molecule\" src=\"data:image/png;base64,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\" alt=\"Mol\"/></td>\n",
       "      <td>NCGC00016241-10</td>\n",
       "      <td>Furosemide</td>\n",
       "      <td>4.373823</td>\n",
       "      <td>4.0</td>\n",
       "      <td>NS(=O)(=O)c2cc(c(NCc1ccco1)cc2Cl)C(=O)O</td>\n",
       "    </tr>\n",
       "    <tr>\n",
       "      <th>1</th>\n",
       "      <td><img data-content=\"rdkit/molecule\" src=\"data:image/png;base64,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\" alt=\"Mol\"/></td>\n",
       "      <td>NCGC00253670-01</td>\n",
       "      <td>Meropenem</td>\n",
       "      <td>NaN</td>\n",
       "      <td>4.0</td>\n",
       "      <td>O[C@H](C)[C@H]3C(=O)N2C(=C(S[C@H]1C[C@H](NC1)C...</td>\n",
       "    </tr>\n",
       "    <tr>\n",
       "      <th>2</th>\n",
       "      <td><img data-content=\"rdkit/molecule\" src=\"data:image/png;base64,iVBORw0KGgoAAAANSUhEUgAAAMgAAADICAIAAAAiOjnJAAAABmJLR0QA/wD/AP+gvaeTAAASUElEQVR4nO2dfVBTV9rAn0SgfBUoovUTVCJqfKVKa61UpeuqaOWd2s5kOh0n09aOMOus0bUyGcepqdsdX7rOrEGdzmBn7bJv3+mWZZ01bdUu+K1FtFqrBUFApfiJIH4AAjF53j9OuF4DREjukxv0+f0FNzfnnNz7u+c59+SeJxpEBIZRGq3aDWCeTFgshgQWiyGBxWJIYLEYElgshgQWiyGBxWJIYLEYElgshgQWiyGBxWJIYLEYElgshgQWiyGBxWJIYLEYElgshgQWiyGBxWJIYLEYElgshgQWiyGBxWJIYLEYElgshgQWiyGBxWJIYLEYElgshgQWiyGBxWJIYLEYElgshgQWiyGBxWJIYLEYElgshgQWiyGBxWJIYLEYElgshgQWiyGBxWJIYLEYElgshgQWiyGBxWJIYLEYElgshgQWiyGBxWJg9+7dn3766ZkzZxQsM0jBsph+ytdff52fnz9kyJDk5GSlyuQei4EHDx4AQFCQkr0Mi8WwWAwNLBZDAovFkCDEGjBggIJlslgMOBwO4B6LURyKUMjzWAwsiI+PnzFjaGiogmWyWAysOn8ejhxRtkwOhQzAgwcAADzGYhSGxWJIEGLxdAOjMA4HAPdYjOJwKGRIYLEYEgjE4nksBmD+fLhwASIiFCxSg4gKFuc3zpw5s2XLlokTJ8bHx7/11lvU1TmdzsbGRo1GExcXR13XEwL2N65cufLBBx+Ir+KDg4MBYN68eRUVFXQ1FhcXT548eerUqeHh4SaT6c6dO3R1IWJra+uGDRv27Nmzfft2p9NJWpeLzEy0WjEzE3ftUqrI/iRWS0tLTk5OVFSUUGrp0qVbtmwZNGiQ+NdkMt29e1fZGsvKyl5//XVxBcbGxgqbhw4d+uWXX1KccqfTWVBQMHr0aAB4/vnnAeDFF188duyY4hU9gtWKVVWuvzMzlSq1f4jlcDgKCgoSEhLEOZ4zZ84vv/wiXmpsbDSZTOKUDxs2LD8/X5EaGxoaTCaT+MI/MjLSYrG0trb+9NNPr776qmjDrFmzfv75Z0XqEpSUlKSmporC9Xr9unXr4uPjAUCr1RqNxvr6egXrQkRsa8M//xmPHHlEJrlkvtEPxNq//8oLL7wgjvjUqVMPHTrUdZ+TJ09Onz5d7PPaa69J2nlBa2trTk5OdHQ0AAQFBWVmZl6/fl161el05ufni+4kKCjIZDLdvn3b67oElZWVBoNBNH7YsGF5eXkPHjxAxObmZovF8swzz4j+0mq1iu0KYLNhYiIC4JQpuGnTU9djnTuHBgNqtY4JE14cMWJEXl6ew+GQ7yB6MrFRnHJ5ZOzrYEhEolGjRkn94pkzZ7rds6mpSerPBg4caLVa3RrWSxobG81ms1AnIiLCbDZ3jeaVlZXp6emiSSkpKSUlJV5U9JDSUpwxAwEQAMePx4ICxKdpjHX9OmZlYVAQAmB0NG7eXHP//v2uu23btk0c7h9++EFsuXXrlhQZhw4dmp+f38vBUElJidTn6fX677777rFvOX369MyZM6WutLS0tPcfsL293Wq1xsTESMHu6tWrbvuUlpZ2dHSIv202mxgJaDQaLyNjbS0ajajRIADGxaHVinZ7nwvpNQEnVmsr5uRgdDQCYFAQZmaiLBC5s3PnzhEjRohzs3Tp0oaGBrH91KlT0nglLS2tp45HII9Ew4cPlyJRL7HZbCNHjpT8uHnzZm/eMmbMGKlfPH36dNd96urqIiMjk5KS9uzZI7a0tLRIkfG5557rfWS8devW/TVrMCQEATA8HD/6CO/d6/0H9I4AEsvpxIICHDXK1U/PmYMefXDR0+EWkXHw4MHSYKhrZOxNJOoNYjAUEhIiDYZ6ioylpaUzZswQSk2YMOGbb77pqcwff/wxKSlJ7Pn222/X1dWJ7efPn1+wYIHYPmXKlKNHj3poWEdHR15e3qBBg/6dloYaDRoMeOmSFx/QC1QWy2pFqxURsaoK//hHjIhAAExJwX37+lZOT4dbDIa6RsbeRKK+UlFRMW/ePNGGrtMEtbW1RqNRo9EAQFxcXG/6m46ODqvV+uyzzwJAeHi4xWJpa2sTL9lsNjEWFJHxxo0bXd9eWFio0+lEe/47Pd1x6pSPH7BPqC9WZiZWVWFVFVqtuHkz/u1v6NU4GLHnw+02TbBx48bHRiKvsdlsbtMEt27dkvrF8PBws9ncp7uKy5cvG41G0dqxY8fu6hxfi646NDQUAGJiYuSmnjhxYtasWeIt48aNKxAjdP+ivlhVVS63RNflIz0dbqfT+cUXX4hpAjHF6jkS+cLdu3dXr14tvhWIjo4W1Wm12vfee+/y5cvelblv376JEycKVzIyMi5evCi2V1VVSVO4kydP3rFjR2ZmplarFberOTk57e3tin2wvhAQYgm3FBFL4Ha4jxw5IrY3NTWJgcuyZcsUmxPqgcrKyrlz50ZGRoaGhs6ePfuUz5HIQ2TcsWOH6KojIyMBICwsbM2aNdRfPXkmIMRC2WBLQaTDbTAYpI0ZGRkAQNRXuXH79m1xshUs88qVK9JYTafTSdMiLS0tYpQ5bty42tpaBWv0DvXvCg8dQoMBN28mKVxERvmBnj9/PgDsUm4m0AONjY3iPlHxkvfu3avX60W8k+5kc3NzAcBkMilenReo/zxWTQ3885/KPgv0kPDw8I8//li+hWI5eU+4rTDevXt3c3PzggULRMDyhdmzZ58+fXrz5s1xcXEiOHatTl3UbwTB04ueq/Pf0Xera9myZZcuXbp48aLvYgFAcHDwhx9+6KE6dVH/0WS5WOfPQ2IidE5IEVWnmljUVQeUWOo3Qr6mrbUVLlyAqCjS6lQTS0RhZbMFeahOXdTvseRr2vwQFp/gHota3D6hvlhymfwmln+O/tMcCp86sfx/VyhJ7B+xuMdyoUqP5R+x3CT2TygMkB5L/UZERh6eObM2NjYRYLpGcykt7VxSUijAb4iqe4LHWBwKH6GxsejwYWNLSzEAtLVVHjz4em3tp3TVqS4W3xX6Cfm9jB8OjVpiiefAtFqtePSAujrVUV8s+eHwm1j+vyt8wq6Zx/LUiaXWd4Uslr+RHw4/TPGpFQpZLH8jlyk6Olqv1w8dOlTB8u12u91ul/71v1h+Hj4GyDyW+nbLj3h6enpZWZmChRcXF69cuXLJkiWrVq3qWh018rAbFhaWk5Mjnlf2Q3Wqo36P1dDQAADt7e3KFnvixIm0tLS5c+eWlZUVFhZiZ7YmtUJhWFiY2WyW/PadK1euLFmy5OzZs91Wpz4qPmR48+ZNk8mk1Wrj4+OjoqKUyk1QW/vr4sWLpYVWW7duldYT7927V2w/ePCg7xU9lq+++goA3nzzTWWLvXfv3rp16yIiIgBg4cKF0nZ/PnX9WNQRq6WlZf369eJ5t+Dg4MTERGF5Xxequ9HcjBYLpqTc1Wi0ISEhJpOpqalJvFReXi6Ou0Cj0bz77rvXPSyyVoLS0tL09PSQkBD5wgdfcDgc+fn50hg0IyOjqjOfR0NDgziMn3zyie8V9YbW1lYPr/pbrJ4SErnlJuh2BaYH7Hb87DMcNAgBUKPBVav+JS2QamhoMJvNYplyRETE2rVr165dK9aHRUdHUy+QWrlypfikEyZMKC4u9qWooqIiKevOSy+9JHW6YrmzSDUolpplZGRcuHBBieZ3z6+//mo0GlNSUjykQvGrWMXF+M47u7oeGoHXuQmKinDSJNfC/GnTsHOtl2u5s0hIJJaPXrt2TbxUU1MjdWDjx48vKipS9IM+grTwQZzyS31f5H7u3Dkpu8TIkSPlWXdsNpvU38+ePTs7O1u4FRYWZrFYus2k4gtNTU2rV68W5ygsLMxDhjA/iVVRgQYDAmBkpDM5ea6HjHjyhervvLP+sUl77HYcNw4BUKfDwkLXRqcTCwvLxIpkMRApKyvr+l4pOYdON9FodPi8yL5HPCwJ9IwYhsrzv0muHD9+XMp1M378eGm589WrV6X1YYmJiUoNuUS/KHJhaDQag8EgxYRuIReroQFNJldCoogItFjQY2h2YbPZkpOnDBxYr9Gg0egp4Qwi7tqFmzahFNBKSjA1FSMjnYMG/ddjExLdv39//fr106btA8CoKPzLX7BzoK88YkmgUEG+WL5b5Hkx3fK/iUgkTwNh75KQ6ODBg8nJydJ449y5c760vKioSFqHPX36dClplAcIxWprww0bMCrKlZDod7/DPg2cWlpw7Vp85hkEwOeewy1b8LGBsbISFy1yxcThw/Grry71Mh9aXR0aja43jhuH33/fh3b2lf3793e7WN6NtLQ0sc8bb7whpe4VaSDEAFHMX3hY7my326WRwLXUVDSZvMledPz4/y1ZIvWLO3fu7OX7CMVqb8exY/uQkKhbqqtx4ULXKX/hBTx8uPvdGhvRbHZZGB6OZjN6kY+ouBgnTHDVlZGBdMuJRWT0PBgqLCxMSUnZv3+/9JY+RSKJa9eu/e+HH7ryrY0ejb02A+vqMDMTtdr2kJBXJk+Wz9r0BtpQWFSEvt0JubDZcPRo1x2f0YidQ3BExI4OtFoxJgYBUKtFoxF9GSq1teGf/oTh4QiA27f73nBPuA2Gvv32W/mrTqdT6m69iETuHD+OL7/sumh++1ssL/e08717aLFgWBgCYEgImkzYOWvTe7wXS0q7IE8UI893pWwuhtZWtFgwNBQB8Pe/f1jLH/7guhrnzfO+X3Tj0iVcswb9k2L9wIEDkyZNkiKj2zSB+P5AvJqUlORTQiKHA/PzMS4OATA4uPvIaLdjXh4+/7zrIjYYsKbGu9qUF0ue70pxampw0yb3Wtaswd27Fa7I7Qrp9sMqhRgMuUXGuro6KSFRbGysYvNtN27g+++7rsWEBJTPFxw79nAoMGMG+jBTjYg+fVe4cSNkZcHGjY9szM5236IgY8aAmHGU17JhA8yfr3xd5eVQXa18sV0JCgpasWJFRUXF4sWL29ra1q9fn5CQoNPptm3bFhISYjabL1y4IM3x+srgwbB9Oxw/DtOmgcMBY8ZAVhbk5kJWFpSXQ00NJCRAfj4cOgQvv+zTh/LlzdnZoNNBdTV895379o0boXNSkArqWkT52dmufyWPiWoUP3iRlZWVlZXV2Nhot9sNBkNOTo6UfFBJXnoJjh6Fixfhr391nUUAyMqC77+H1FRQwmDFnm6orobcXNffOh25Vf6pRd4vZmdDXt5Dz4iYOXPm559/Xl9fn5ycXFBQQGKVYMAA0OmgvBw685SCXg8jRihiFfgi1ooVribpdLBihWuL+Ff8Lf6lQKqatBbo2V35VUREBFFiJzf0+ofxXi6Z7/g6GJRBMVoPTKQshBQcOHAAANLS0khK7wrBz1KggonXsrJg0SKorlZS+oBFp4PcXKrO0t/P6+XlUZSqWOtpmhegkF5FgfUgqLf079arBelV9GSIpf4z74wbLBZDQkCt4vKa/n1ZPJFMCg7elZYW3vn0dj+FxQo4kpqbkw4ehOHD1W6IT3AoDDz8nKCcBhYr8GCxGBJYLIYEFoshQf6TCv0WFivwkP+kQr+FxQo8OBQyJEyaBJmZMH262u3wCQ12Jo5iGAXp3/3tk0lWFuj1UF4OixbR/sQeJdxjBRi5ubBw4cPVDf32MTceYwUYbqsbVq0CWTLIfgSLFWDIVzcUF8OmTZCSAitXwp07qjarz3AoDDykMdbcuXD4MHz2GTx4AAMHwkcfwfLlQPaLKcrCYgU8FRWwfDkUFwMATJ0KW7f6uEbZP/QP/Z9qxo+H//wH/v53GDIETpyA1FRYvtx5+7bazXoMLFZ/QKMBoxGqq8FigQED6v/xj7FTpuTm5jqdTrVb1jMKrlFk/MHZs//z/vvi3L3yyisnT55Uu0Hdw2L1S2w2m0jdK7JB19fXq90id1is/kpzc7OUvTw2Nlap3/VQCr4r7N+Ul5cvX7583759ADBt2rRDhw4pk0bLZ3jw3r/R6/V79+4Vv+uRnJwcIFYBz2M9MbS0tNjt9piYGLUb4oLFYkjgUMiQwGIxJLBYDAksFkMCi8WQwGIxJLBYDAksFkMCi8WQwGIxJLBYDAksFkMCi8WQwGIxJLBYDAksFkMCi8WQwGIxJLBYDAksFkMCi8WQwGIxJLBYDAksFkMCi8WQwGIxJLBYDAksFkMCi8WQwGIxJLBYDAksFkMCi8WQwGIxJLBYDAksFkMCi8WQwGIxJLBYDAksFkMCi8WQwGIxJLBYDAksFkMCi8WQwGIxJLBYDAksFkMCi8WQwGIxJPw/JgiifZK6QA8AAAAASUVORK5CYII=\" alt=\"Mol\"/></td>\n",
       "      <td>NCGC00016055-16</td>\n",
       "      <td>Trimethoprim</td>\n",
       "      <td>NaN</td>\n",
       "      <td>4.0</td>\n",
       "      <td>Nc2nc(N)ncc2Cc1cc(OC)c(OC)c(OC)c1</td>\n",
       "    </tr>\n",
       "    <tr>\n",
       "      <th>3</th>\n",
       "      <td><img data-content=\"rdkit/molecule\" src=\"data:image/png;base64,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\" alt=\"Mol\"/></td>\n",
       "      <td>NCGC00253611-01</td>\n",
       "      <td>Isoaminile</td>\n",
       "      <td>NaN</td>\n",
       "      <td>4.0</td>\n",
       "      <td>CC(C)C(C#N)(CC(C)N(C)C)c1ccccc1</td>\n",
       "    </tr>\n",
       "    <tr>\n",
       "      <th>4</th>\n",
       "      <td><img data-content=\"rdkit/molecule\" src=\"data:image/png;base64,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\" alt=\"Mol\"/></td>\n",
       "      <td>NCGC00018204-13</td>\n",
       "      <td>Vinpocetine</td>\n",
       "      <td>4.723823</td>\n",
       "      <td>-2.2</td>\n",
       "      <td>O=C(OCC)C1=C[C@@]5(CCCN4CCc3c(n1c2ccccc23)[C@@...</td>\n",
       "    </tr>\n",
       "  </tbody>\n",
       "</table>\n",
       "</div>"
      ],
      "text/plain": [
       "                                                 Mol        SAMPLE_ID  \\\n",
       "0  <img data-content=\"rdkit/molecule\" src=\"data:i...  NCGC00016241-10   \n",
       "1  <img data-content=\"rdkit/molecule\" src=\"data:i...  NCGC00253670-01   \n",
       "2  <img data-content=\"rdkit/molecule\" src=\"data:i...  NCGC00016055-16   \n",
       "3  <img data-content=\"rdkit/molecule\" src=\"data:i...  NCGC00253611-01   \n",
       "4  <img data-content=\"rdkit/molecule\" src=\"data:i...  NCGC00018204-13   \n",
       "\n",
       "    SAMPLE_NAME     pAC50  CURVE_CLASS2  \\\n",
       "0    Furosemide  4.373823           4.0   \n",
       "1     Meropenem       NaN           4.0   \n",
       "2  Trimethoprim       NaN           4.0   \n",
       "3    Isoaminile       NaN           4.0   \n",
       "4   Vinpocetine  4.723823          -2.2   \n",
       "\n",
       "                                              SMILES  \n",
       "0            NS(=O)(=O)c2cc(c(NCc1ccco1)cc2Cl)C(=O)O  \n",
       "1  O[C@H](C)[C@H]3C(=O)N2C(=C(S[C@H]1C[C@H](NC1)C...  \n",
       "2                  Nc2nc(N)ncc2Cc1cc(OC)c(OC)c(OC)c1  \n",
       "3                    CC(C)C(C#N)(CC(C)N(C)C)c1ccccc1  \n",
       "4  O=C(OCC)C1=C[C@@]5(CCCN4CCc3c(n1c2ccccc23)[C@@...  "
      ]
     },
     "execution_count": 7,
     "metadata": {},
     "output_type": "execute_result"
    }
   ],
   "source": [
    "df['pAC50'] = df.LOG_AC50*-1\n",
    "df.drop('LOG_AC50', axis=1, inplace=True)\n",
    "\n",
    "PandasTools.AddMoleculeColumnToFrame(df,\"SMILES\",\"Mol\")\n",
    "\n",
    "cols = ['Mol','SAMPLE_ID','SAMPLE_NAME','pAC50','CURVE_CLASS2','SMILES']\n",
    "df = df[cols]\n",
    "\n",
    "df.head()"
   ]
  },
  {
   "cell_type": "markdown",
   "metadata": {},
   "source": [
    "#### Curve Classes give us a better sense of the quality of the activity than the pAC50 alone.\n",
    "#### We are interested in specific curve classes that are associated with \"good curves\", which will be a proxy for meaningful activity\n",
    "Reference: https://www.ncbi.nlm.nih.gov/pmc/articles/PMC1518803/"
   ]
  },
  {
   "cell_type": "code",
   "execution_count": 8,
   "metadata": {},
   "outputs": [
    {
     "data": {
      "text/plain": [
       "CURVE_CLASS2\n",
       "-3.0     186\n",
       "-2.4     145\n",
       "-2.3       1\n",
       "-2.2     363\n",
       "-2.1     203\n",
       "-1.4      19\n",
       "-1.3       1\n",
       "-1.2      58\n",
       "-1.1      65\n",
       " 4.0    2369\n",
       "dtype: int64"
      ]
     },
     "execution_count": 8,
     "metadata": {},
     "output_type": "execute_result"
    }
   ],
   "source": [
    "#Inspect the distrubution of curve classes\n",
    "df.groupby(['CURVE_CLASS2']).size()"
   ]
  },
  {
   "cell_type": "code",
   "execution_count": 9,
   "metadata": {
    "scrolled": true
   },
   "outputs": [
    {
     "data": {
      "image/png": "[encoded data removed]",
      "text/plain": [
       "<Figure size 432x288 with 1 Axes>"
      ]
     },
     "metadata": {
      "needs_background": "light"
     },
     "output_type": "display_data"
    }
   ],
   "source": [
    "#Plot it out\n",
    "ax = plt.subplots()\n",
    "ax = sns.countplot(df['CURVE_CLASS2'], data=df)\n",
    "ax.set_title('Curve Class Histogram')\n",
    "plt.show()"
   ]
  },
  {
   "cell_type": "markdown",
   "metadata": {},
   "source": [
    "#### Most of our curves are class 4 (inactive). The rest are a mix of acceptable curves and ambiguous curves.  \n",
    "We will categorize inactive curves as 0, acceptable curves as 1, and ambiguous curves as 999"
   ]
  },
  {
   "cell_type": "code",
   "execution_count": 10,
   "metadata": {},
   "outputs": [],
   "source": [
    "#inactive\n",
    "df.loc[(df['CURVE_CLASS2'] == 4.0), 'activity'] = 0\n",
    "\n",
    "#active\n",
    "df.loc[(df['CURVE_CLASS2'] == -1.1), 'activity'] = 1\n",
    "df.loc[(df['CURVE_CLASS2'] == -1.2), 'activity'] = 1\n",
    "df.loc[(df['CURVE_CLASS2'] == -2.1), 'activity'] = 1\n",
    "df.loc[(df['CURVE_CLASS2'] == -2.2), 'activity'] = 1\n",
    "\n",
    "#ambiguous\n",
    "df.loc[(df['CURVE_CLASS2'] != 4) & (df['CURVE_CLASS2'] != -1.1) & (df['CURVE_CLASS2'] != -1.2) & (df['CURVE_CLASS2'] != -2.1) & (df['CURVE_CLASS2'] != -2.2), 'activity'] = 999"
   ]
  },
  {
   "cell_type": "code",
   "execution_count": 11,
   "metadata": {},
   "outputs": [
    {
     "data": {
      "text/html": [
       "<div>\n",
       "<style scoped>\n",
       "    .dataframe tbody tr th:only-of-type {\n",
       "        vertical-align: middle;\n",
       "    }\n",
       "\n",
       "    .dataframe tbody tr th {\n",
       "        vertical-align: top;\n",
       "    }\n",
       "\n",
       "    .dataframe thead th {\n",
       "        text-align: right;\n",
       "    }\n",
       "</style>\n",
       "<table border=\"1\" class=\"dataframe\">\n",
       "  <thead>\n",
       "    <tr style=\"text-align: right;\">\n",
       "      <th></th>\n",
       "      <th>Mol</th>\n",
       "      <th>SAMPLE_ID</th>\n",
       "      <th>SAMPLE_NAME</th>\n",
       "      <th>pAC50</th>\n",
       "      <th>CURVE_CLASS2</th>\n",
       "      <th>SMILES</th>\n",
       "      <th>activity</th>\n",
       "    </tr>\n",
       "  </thead>\n",
       "  <tbody>\n",
       "    <tr>\n",
       "      <th>0</th>\n",
       "      <td><img data-content=\"rdkit/molecule\" src=\"data:image/png;base64,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\" alt=\"Mol\"/></td>\n",
       "      <td>NCGC00016241-10</td>\n",
       "      <td>Furosemide</td>\n",
       "      <td>4.373823</td>\n",
       "      <td>4.0</td>\n",
       "      <td>NS(=O)(=O)c2cc(c(NCc1ccco1)cc2Cl)C(=O)O</td>\n",
       "      <td>0</td>\n",
       "    </tr>\n",
       "  </tbody>\n",
       "</table>\n",
       "</div>"
      ],
      "text/plain": [
       "                                                 Mol        SAMPLE_ID  \\\n",
       "0  <img data-content=\"rdkit/molecule\" src=\"data:i...  NCGC00016241-10   \n",
       "\n",
       "  SAMPLE_NAME     pAC50  CURVE_CLASS2  \\\n",
       "0  Furosemide  4.373823           4.0   \n",
       "\n",
       "                                    SMILES  activity  \n",
       "0  NS(=O)(=O)c2cc(c(NCc1ccco1)cc2Cl)C(=O)O         0  "
      ]
     },
     "execution_count": 11,
     "metadata": {},
     "output_type": "execute_result"
    }
   ],
   "source": [
    "#recast our new column as an int and inspect\n",
    "df['activity'] = df['activity'].astype('int') \n",
    "df.head(1)"
   ]
  },
  {
   "cell_type": "markdown",
   "metadata": {},
   "source": [
    "#### Curate replicates\n",
    "Replicates may come from the same SAMPLE_ID, SAMPLE_NAME, or have the same SMILES"
   ]
  },
  {
   "cell_type": "code",
   "execution_count": 12,
   "metadata": {},
   "outputs": [
    {
     "name": "stdout",
     "output_type": "stream",
     "text": [
      "Number of replicate compounds:\n",
      "(66, 7)\n"
     ]
    }
   ],
   "source": [
    "#Inspect how many compounds have replicate SAMPLE_ID\n",
    "\n",
    "sample_id_dups = df.groupby('SAMPLE_ID').filter(lambda x: x['SAMPLE_ID'].count() > 1)\n",
    "print('Number of replicate compounds:')\n",
    "print(sample_id_dups.shape)"
   ]
  },
  {
   "cell_type": "code",
   "execution_count": 13,
   "metadata": {},
   "outputs": [
    {
     "name": "stdout",
     "output_type": "stream",
     "text": [
      "Number of replicate compounds with inconsistent activity:\n",
      "(14, 7)\n"
     ]
    }
   ],
   "source": [
    "#Inspect how of those replicate compounds have inconsistent activity readouts\n",
    "\n",
    "sample_id_dups_filtered = sample_id_dups.groupby('SAMPLE_ID').filter(lambda x: x['activity'].nunique() > 1)\n",
    "print('Number of replicate compounds with inconsistent activity:')\n",
    "print(sample_id_dups_filtered.shape)"
   ]
  },
  {
   "cell_type": "code",
   "execution_count": 14,
   "metadata": {},
   "outputs": [
    {
     "name": "stdout",
     "output_type": "stream",
     "text": [
      "Partially curated dataset:\n",
      "(3370, 7)\n"
     ]
    }
   ],
   "source": [
    "#ensures inconsistent replicates are not in df\n",
    "df = df[~df['SAMPLE_ID'].isin(sample_id_dups_filtered.SAMPLE_ID)]\n",
    "\n",
    "#keeps one unique compound if the replicate is reproducible\n",
    "df.drop_duplicates(\"SAMPLE_ID\",inplace=True)\n",
    "\n",
    "print('Partially curated dataset:')\n",
    "print(df.shape)"
   ]
  },
  {
   "cell_type": "code",
   "execution_count": 15,
   "metadata": {},
   "outputs": [],
   "source": [
    "#Repeat analysis for SAMPLE_NAME and SMILES"
   ]
  },
  {
   "cell_type": "code",
   "execution_count": 16,
   "metadata": {},
   "outputs": [
    {
     "name": "stdout",
     "output_type": "stream",
     "text": [
      "Number of replicate compounds:\n",
      "(286, 7)\n"
     ]
    }
   ],
   "source": [
    "sample_name_dups = df.groupby('SAMPLE_NAME').filter(lambda x: x['SAMPLE_NAME'].count() > 1)\n",
    "print('Number of replicate compounds:')\n",
    "print(sample_name_dups.shape)"
   ]
  },
  {
   "cell_type": "code",
   "execution_count": 17,
   "metadata": {},
   "outputs": [
    {
     "name": "stdout",
     "output_type": "stream",
     "text": [
      "Number of replicate compounds with inconsistent activity:\n",
      "(68, 7)\n"
     ]
    }
   ],
   "source": [
    "sample_names_dups_filtered = sample_name_dups.groupby('SAMPLE_NAME').filter(lambda x: x['activity'].nunique() > 1)\n",
    "print('Number of replicate compounds with inconsistent activity:')\n",
    "print(sample_names_dups_filtered.shape)"
   ]
  },
  {
   "cell_type": "code",
   "execution_count": 18,
   "metadata": {},
   "outputs": [
    {
     "name": "stdout",
     "output_type": "stream",
     "text": [
      "Partially curated dataset:\n",
      "(3193, 7)\n"
     ]
    }
   ],
   "source": [
    "#ensures keys from df_2.SAMPLE_ID are not in df\n",
    "df = df[~df['SAMPLE_NAME'].isin(sample_names_dups_filtered.SAMPLE_NAME)]\n",
    "df.drop_duplicates(\"SAMPLE_NAME\",inplace=True)\n",
    "print('Partially curated dataset:')\n",
    "print(df.shape)"
   ]
  },
  {
   "cell_type": "code",
   "execution_count": 19,
   "metadata": {},
   "outputs": [
    {
     "name": "stdout",
     "output_type": "stream",
     "text": [
      "Number of replicate compounds:\n",
      "(286, 7)\n"
     ]
    }
   ],
   "source": [
    "smiles_dups = df.groupby('SMILES').filter(lambda x: x['SMILES'].count() > 1)\n",
    "print('Number of replicate compounds:')\n",
    "print(sample_name_dups.shape)"
   ]
  },
  {
   "cell_type": "code",
   "execution_count": 20,
   "metadata": {},
   "outputs": [
    {
     "name": "stdout",
     "output_type": "stream",
     "text": [
      "Number of replicate compounds with inconsistent activity:\n",
      "(68, 7)\n"
     ]
    }
   ],
   "source": [
    "smiles_dups_filtered = sample_name_dups.groupby('SMILES').filter(lambda x: x['activity'].nunique() > 1)\n",
    "print('Number of replicate compounds with inconsistent activity:')\n",
    "print(sample_names_dups_filtered.shape)"
   ]
  },
  {
   "cell_type": "code",
   "execution_count": 21,
   "metadata": {},
   "outputs": [
    {
     "name": "stdout",
     "output_type": "stream",
     "text": [
      "Partially curated dataset:\n",
      "(3155, 7)\n"
     ]
    }
   ],
   "source": [
    "#ensures keys from df_2.SAMPLE_ID are not in df\n",
    "df = df[~df['SMILES'].isin(smiles_dups_filtered.SMILES)]\n",
    "\n",
    "\n",
    "df.drop_duplicates(\"SMILES\",inplace=True)\n",
    "\n",
    "print('Partially curated dataset:')\n",
    "print(df.shape)"
   ]
  },
  {
   "cell_type": "code",
   "execution_count": 22,
   "metadata": {},
   "outputs": [
    {
     "name": "stdout",
     "output_type": "stream",
     "text": [
      "Partially curated dataset:\n",
      "(2838, 7)\n"
     ]
    }
   ],
   "source": [
    "#Remove any remaining inconclusive classes and the positive control Biotin\n",
    "\n",
    "df = df[df.activity != 999]\n",
    "df = df[df.SAMPLE_NAME != \"Biotin\"]\n",
    "\n",
    "print('Partially curated dataset:')\n",
    "print(df.shape)"
   ]
  },
  {
   "cell_type": "markdown",
   "metadata": {},
   "source": [
    "#### Inspect the curated dataset for the primary HTS"
   ]
  },
  {
   "cell_type": "code",
   "execution_count": 23,
   "metadata": {},
   "outputs": [
    {
     "name": "stdout",
     "output_type": "stream",
     "text": [
      "Actives in the primary screen:\n",
      "(632, 7)\n"
     ]
    }
   ],
   "source": [
    "df_actives = df[df.activity == 1]\n",
    "print('Actives in the primary screen:')\n",
    "print(df_actives.shape)\n",
    "\n",
    "#write out if needed\n",
    "#df_actives.to_csv('actives.csv')"
   ]
  },
  {
   "cell_type": "code",
   "execution_count": 24,
   "metadata": {},
   "outputs": [
    {
     "name": "stdout",
     "output_type": "stream",
     "text": [
      "Inactives in the primary screen:\n",
      "(2206, 7)\n"
     ]
    }
   ],
   "source": [
    "df_inactive = df[~df['SAMPLE_ID'].isin(df_actives.SAMPLE_ID)]\n",
    "print('Inactives in the primary screen:')\n",
    "print(df_inactive.shape)\n",
    "\n",
    "#write out if needed\n",
    "#df_inactives.to_csv('inactives.csv')"
   ]
  },
  {
   "cell_type": "markdown",
   "metadata": {},
   "source": [
    "### In the second section of the notebook we will further curate the primary HTS data based on the counterscreen"
   ]
  },
  {
   "cell_type": "markdown",
   "metadata": {},
   "source": [
    "#### read the file"
   ]
  },
  {
   "cell_type": "code",
   "execution_count": 25,
   "metadata": {},
   "outputs": [],
   "source": [
    "file2 = 'Spike-ACE2_protein-protein_interaction_(TruHit_Counterscreen).tsv'"
   ]
  },
  {
   "cell_type": "code",
   "execution_count": 26,
   "metadata": {},
   "outputs": [
    {
     "name": "stdout",
     "output_type": "stream",
     "text": [
      "Uncurated dataset:\n",
      "(3410, 53)\n"
     ]
    }
   ],
   "source": [
    "counter = pd.read_csv(file2, sep='\\t')  \n",
    "print('Uncurated dataset:')\n",
    "print(counter.shape)"
   ]
  },
  {
   "cell_type": "markdown",
   "metadata": {},
   "source": [
    "#### Define a function to categorize the counter screen outcome\n",
    "Any compound that is not inactive in the counter (curve class == 4) is a suspect artefact.  \n",
    "A true active will be active in the primary but inactive in the counterscreen"
   ]
  },
  {
   "cell_type": "code",
   "execution_count": 27,
   "metadata": {},
   "outputs": [],
   "source": [
    "def curate(df_in):\n",
    "    \n",
    "    df_in.loc[(df_in['CURVE_CLASS2'] == 4.0), 'activity'] = 0   \n",
    "    df_in.loc[(df_in['CURVE_CLASS2'] != 4.0), 'activity'] = 1   \n",
    "    df_in['activity'] = df_in['activity'].astype('int') \n",
    "    df_out = df_in[df_in.activity == 1]\n",
    "    return df_out"
   ]
  },
  {
   "cell_type": "code",
   "execution_count": 28,
   "metadata": {},
   "outputs": [
    {
     "data": {
      "text/html": [
       "<div>\n",
       "<style scoped>\n",
       "    .dataframe tbody tr th:only-of-type {\n",
       "        vertical-align: middle;\n",
       "    }\n",
       "\n",
       "    .dataframe tbody tr th {\n",
       "        vertical-align: top;\n",
       "    }\n",
       "\n",
       "    .dataframe thead th {\n",
       "        text-align: right;\n",
       "    }\n",
       "</style>\n",
       "<table border=\"1\" class=\"dataframe\">\n",
       "  <thead>\n",
       "    <tr style=\"text-align: right;\">\n",
       "      <th></th>\n",
       "      <th>SAMPLE_ID</th>\n",
       "      <th>SAMPLE_NAME</th>\n",
       "      <th>PUBCHEM_SID</th>\n",
       "      <th>PRIMARY_MOA</th>\n",
       "      <th>ASSAY_NAME</th>\n",
       "      <th>LIBRARY</th>\n",
       "      <th>CAS</th>\n",
       "      <th>ALIAS</th>\n",
       "      <th>AC50</th>\n",
       "      <th>LOG_AC50</th>\n",
       "      <th>...</th>\n",
       "      <th>CONC6</th>\n",
       "      <th>CONC7</th>\n",
       "      <th>CONC8</th>\n",
       "      <th>CONC9</th>\n",
       "      <th>CONC10</th>\n",
       "      <th>CONC11</th>\n",
       "      <th>CONC12</th>\n",
       "      <th>CONC13</th>\n",
       "      <th>CONC14</th>\n",
       "      <th>activity</th>\n",
       "    </tr>\n",
       "  </thead>\n",
       "  <tbody>\n",
       "    <tr>\n",
       "      <th>2</th>\n",
       "      <td>NCGC00179392-03</td>\n",
       "      <td>Beclomethasone</td>\n",
       "      <td>170464981.0</td>\n",
       "      <td>NaN</td>\n",
       "      <td>DPI_SARS-CoV-2_General</td>\n",
       "      <td>2019_NPC_01</td>\n",
       "      <td>4419-39-0</td>\n",
       "      <td>NaN</td>\n",
       "      <td>11.067653</td>\n",
       "      <td>-4.955944</td>\n",
       "      <td>...</td>\n",
       "      <td>0.000033</td>\n",
       "      <td>NaN</td>\n",
       "      <td>NaN</td>\n",
       "      <td>NaN</td>\n",
       "      <td>NaN</td>\n",
       "      <td>NaN</td>\n",
       "      <td>NaN</td>\n",
       "      <td>NaN</td>\n",
       "      <td>NaN</td>\n",
       "      <td>1</td>\n",
       "    </tr>\n",
       "    <tr>\n",
       "      <th>4</th>\n",
       "      <td>NCGC00159406-12</td>\n",
       "      <td>Noradrenaline bitartrate monohydrate</td>\n",
       "      <td>170465227.0</td>\n",
       "      <td>alpha/beta-adrenoceptor Agonist</td>\n",
       "      <td>DPI_SARS-CoV-2_General</td>\n",
       "      <td>2019_NPC_01</td>\n",
       "      <td>69815-49-2</td>\n",
       "      <td>; Norepinephrine bitartrate; Noreinefrina; L-(...</td>\n",
       "      <td>15.633475</td>\n",
       "      <td>-4.805944</td>\n",
       "      <td>...</td>\n",
       "      <td>0.000033</td>\n",
       "      <td>NaN</td>\n",
       "      <td>NaN</td>\n",
       "      <td>NaN</td>\n",
       "      <td>NaN</td>\n",
       "      <td>NaN</td>\n",
       "      <td>NaN</td>\n",
       "      <td>NaN</td>\n",
       "      <td>NaN</td>\n",
       "      <td>1</td>\n",
       "    </tr>\n",
       "  </tbody>\n",
       "</table>\n",
       "<p>2 rows × 54 columns</p>\n",
       "</div>"
      ],
      "text/plain": [
       "         SAMPLE_ID                           SAMPLE_NAME  PUBCHEM_SID  \\\n",
       "2  NCGC00179392-03                        Beclomethasone  170464981.0   \n",
       "4  NCGC00159406-12  Noradrenaline bitartrate monohydrate  170465227.0   \n",
       "\n",
       "                       PRIMARY_MOA              ASSAY_NAME      LIBRARY  \\\n",
       "2                              NaN  DPI_SARS-CoV-2_General  2019_NPC_01   \n",
       "4  alpha/beta-adrenoceptor Agonist  DPI_SARS-CoV-2_General  2019_NPC_01   \n",
       "\n",
       "          CAS                                              ALIAS       AC50  \\\n",
       "2   4419-39-0                                                NaN  11.067653   \n",
       "4  69815-49-2  ; Norepinephrine bitartrate; Noreinefrina; L-(...  15.633475   \n",
       "\n",
       "   LOG_AC50  ...     CONC6  CONC7  CONC8 CONC9  CONC10  CONC11  CONC12  \\\n",
       "2 -4.955944  ...  0.000033    NaN    NaN   NaN     NaN     NaN     NaN   \n",
       "4 -4.805944  ...  0.000033    NaN    NaN   NaN     NaN     NaN     NaN   \n",
       "\n",
       "   CONC13  CONC14 activity  \n",
       "2     NaN     NaN        1  \n",
       "4     NaN     NaN        1  \n",
       "\n",
       "[2 rows x 54 columns]"
      ]
     },
     "execution_count": 28,
     "metadata": {},
     "output_type": "execute_result"
    }
   ],
   "source": [
    "df_counter = curate(counter)\n",
    "df_counter.head(2)"
   ]
  },
  {
   "cell_type": "markdown",
   "metadata": {},
   "source": [
    "#### remove suspect artefacts from our primary active df"
   ]
  },
  {
   "cell_type": "code",
   "execution_count": 30,
   "metadata": {},
   "outputs": [
    {
     "name": "stdout",
     "output_type": "stream",
     "text": [
      "True actives in the primary screen:\n",
      "(52, 7)\n"
     ]
    }
   ],
   "source": [
    "true = df_actives[~df_actives['SAMPLE_ID'].isin(df_counter.SAMPLE_ID)]\n",
    "print('True actives in the primary screen:')\n",
    "print(true.shape)"
   ]
  },
  {
   "cell_type": "code",
   "execution_count": 31,
   "metadata": {},
   "outputs": [
    {
     "data": {
      "text/html": [
       "<div>\n",
       "<style scoped>\n",
       "    .dataframe tbody tr th:only-of-type {\n",
       "        vertical-align: middle;\n",
       "    }\n",
       "\n",
       "    .dataframe tbody tr th {\n",
       "        vertical-align: top;\n",
       "    }\n",
       "\n",
       "    .dataframe thead th {\n",
       "        text-align: right;\n",
       "    }\n",
       "</style>\n",
       "<table border=\"1\" class=\"dataframe\">\n",
       "  <thead>\n",
       "    <tr style=\"text-align: right;\">\n",
       "      <th></th>\n",
       "      <th>Mol</th>\n",
       "      <th>SAMPLE_ID</th>\n",
       "      <th>SAMPLE_NAME</th>\n",
       "      <th>pAC50</th>\n",
       "      <th>CURVE_CLASS2</th>\n",
       "      <th>SMILES</th>\n",
       "      <th>activity</th>\n",
       "    </tr>\n",
       "  </thead>\n",
       "  <tbody>\n",
       "    <tr>\n",
       "      <th>3064</th>\n",
       "      <td><img data-content=\"rdkit/molecule\" src=\"data:image/png;base64,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\" alt=\"Mol\"/></td>\n",
       "      <td>NCGC00165841-02</td>\n",
       "      <td>NH125</td>\n",
       "      <td>4.947087</td>\n",
       "      <td>-2.1</td>\n",
       "      <td>CCCCCCCCCCCCCCCC[N+]1=C(C)[N](CC2=CC=CC=C2)C=C1</td>\n",
       "      <td>1</td>\n",
       "    </tr>\n",
       "    <tr>\n",
       "      <th>3134</th>\n",
       "      <td><img data-content=\"rdkit/molecule\" src=\"data:image/png;base64,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\" alt=\"Mol\"/></td>\n",
       "      <td>NCGC00480778-01</td>\n",
       "      <td>Scutellarin</td>\n",
       "      <td>4.997087</td>\n",
       "      <td>-2.2</td>\n",
       "      <td>O[C@@H]1[C@@H](O)[C@@H](O[C@@H]([C@H]1O)C(O)=O...</td>\n",
       "      <td>1</td>\n",
       "    </tr>\n",
       "    <tr>\n",
       "      <th>3230</th>\n",
       "      <td><img data-content=\"rdkit/molecule\" src=\"data:image/png;base64,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\" alt=\"Mol\"/></td>\n",
       "      <td>NCGC00091023-07</td>\n",
       "      <td>CETYLPYRIDINIUM CHLORIDE</td>\n",
       "      <td>4.747087</td>\n",
       "      <td>-2.1</td>\n",
       "      <td>CCCCCCCCCCCCCCCC[N+]1=CC=CC=C1</td>\n",
       "      <td>1</td>\n",
       "    </tr>\n",
       "    <tr>\n",
       "      <th>3311</th>\n",
       "      <td><img data-content=\"rdkit/molecule\" src=\"data:image/png;base64,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\" alt=\"Mol\"/></td>\n",
       "      <td>NCGC00016032-14</td>\n",
       "      <td>THIOCTIC ACID</td>\n",
       "      <td>4.797087</td>\n",
       "      <td>-2.2</td>\n",
       "      <td>OC(=O)CCCCC1CCSS1</td>\n",
       "      <td>1</td>\n",
       "    </tr>\n",
       "    <tr>\n",
       "      <th>3388</th>\n",
       "      <td><img data-content=\"rdkit/molecule\" src=\"data:image/png;base64,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\" alt=\"Mol\"/></td>\n",
       "      <td>NCGC00686694-01</td>\n",
       "      <td>Remdesivir</td>\n",
       "      <td>4.647087</td>\n",
       "      <td>-2.2</td>\n",
       "      <td>CCC(CC)COC(=O)[C@H](C)N[P@](=O)(OC[C@H]1O[C@](...</td>\n",
       "      <td>1</td>\n",
       "    </tr>\n",
       "  </tbody>\n",
       "</table>\n",
       "</div>"
      ],
      "text/plain": [
       "                                                    Mol        SAMPLE_ID  \\\n",
       "3064  <img data-content=\"rdkit/molecule\" src=\"data:i...  NCGC00165841-02   \n",
       "3134  <img data-content=\"rdkit/molecule\" src=\"data:i...  NCGC00480778-01   \n",
       "3230  <img data-content=\"rdkit/molecule\" src=\"data:i...  NCGC00091023-07   \n",
       "3311  <img data-content=\"rdkit/molecule\" src=\"data:i...  NCGC00016032-14   \n",
       "3388  <img data-content=\"rdkit/molecule\" src=\"data:i...  NCGC00686694-01   \n",
       "\n",
       "                   SAMPLE_NAME     pAC50  CURVE_CLASS2  \\\n",
       "3064                     NH125  4.947087          -2.1   \n",
       "3134               Scutellarin  4.997087          -2.2   \n",
       "3230  CETYLPYRIDINIUM CHLORIDE  4.747087          -2.1   \n",
       "3311             THIOCTIC ACID  4.797087          -2.2   \n",
       "3388                Remdesivir  4.647087          -2.2   \n",
       "\n",
       "                                                 SMILES  activity  \n",
       "3064    CCCCCCCCCCCCCCCC[N+]1=C(C)[N](CC2=CC=CC=C2)C=C1         1  \n",
       "3134  O[C@@H]1[C@@H](O)[C@@H](O[C@@H]([C@H]1O)C(O)=O...         1  \n",
       "3230                     CCCCCCCCCCCCCCCC[N+]1=CC=CC=C1         1  \n",
       "3311                                  OC(=O)CCCCC1CCSS1         1  \n",
       "3388  CCC(CC)COC(=O)[C@H](C)N[P@](=O)(OC[C@H]1O[C@](...         1  "
      ]
     },
     "execution_count": 31,
     "metadata": {},
     "output_type": "execute_result"
    }
   ],
   "source": [
    "true.tail()"
   ]
  },
  {
   "cell_type": "markdown",
   "metadata": {},
   "source": [
    "### Write out the file"
   ]
  },
  {
   "cell_type": "code",
   "execution_count": 32,
   "metadata": {},
   "outputs": [],
   "source": [
    "#true.to_csv('true_positives.csv');"
   ]
  }
 ],
 "metadata": {
  "kernelspec": {
   "display_name": "Python 3",
   "language": "python",
   "name": "python3"
  },
  "language_info": {
   "codemirror_mode": {
    "name": "ipython",
    "version": 3
   },
   "file_extension": ".py",
   "mimetype": "text/x-python",
   "name": "python",
   "nbconvert_exporter": "python",
   "pygments_lexer": "ipython3",
   "version": "3.7.1"
  }
 },
 "nbformat": 4,
 "nbformat_minor": 2
}
